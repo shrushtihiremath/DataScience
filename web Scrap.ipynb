{
 "cells": [
  {
   "cell_type": "code",
   "execution_count": 1,
   "id": "3af3e8d3",
   "metadata": {},
   "outputs": [],
   "source": [
    "import bs4\n",
    "import urllib.request\n",
    "from urllib.request import urlopen\n",
    "from bs4 import BeautifulSoup as soup\n",
    "import csv\n"
   ]
  },
  {
   "cell_type": "code",
   "execution_count": 9,
   "id": "c152a3e6",
   "metadata": {},
   "outputs": [
    {
     "name": "stdout",
     "output_type": "stream",
     "text": [
      "['Rank', 'Market', 'Retail valueUS$ (millions)', 'Streaming', 'Physical', 'Digital', 'Performance rights', 'Synchronization']\n",
      "['1', 'United States', 'n/a', 'n/a', 'n/a', 'n/a', 'n/a', 'n/a']\n",
      "['2', 'Japan', 'n/a', 'n/a', 'n/a', 'n/a', 'n/a', 'n/a']\n",
      "['3', 'United Kingdom', 'n/a', 'n/a', 'n/a', 'n/a', 'n/a', 'n/a']\n",
      "['4', 'Germany', 'n/a', 'n/a', 'n/a', 'n/a', 'n/a', 'n/a']\n",
      "['5', 'France', 'n/a', 'n/a', 'n/a', 'n/a', 'n/a', 'n/a']\n",
      "['6', 'China', 'n/a', 'n/a', 'n/a', 'n/a', 'n/a', 'n/a']\n",
      "['7', 'South Korea', 'n/a', 'n/a', 'n/a', 'n/a', 'n/a', 'n/a']\n",
      "['8', 'Canada', 'n/a', 'n/a', 'n/a', 'n/a', 'n/a', 'n/a']\n",
      "['9', 'Australia', 'n/a', 'n/a', 'n/a', 'n/a', 'n/a', 'n/a']\n",
      "['10', 'Italy', 'n/a', 'n/a', 'n/a', 'n/a', 'n/a', 'n/a']\n",
      "['', 'Global total', '25,900', '16,900', '5,000', '1,100', '2,400', '500']\n"
     ]
    }
   ],
   "source": [
    "filename = 'music.csv'\n",
    "f = open(filename, 'w' ,newline = '')\n",
    "music = csv.writer(f)\n",
    "\n",
    "html = urlopen('https://en.wikipedia.org/wiki/List_of_largest_recorded_music_markets#2017')\n",
    "bsobj = soup(html.read())\n",
    "tbody = bsobj('table',{'class':'wikitable plainrowheaders sortable'})[0].findAll('tr')\n",
    "xl = []\n",
    "for row in tbody:\n",
    "    cols = row.findChildren(recursive = False)\n",
    "    cols = [element.text.strip()for element in cols]\n",
    "    music.writerow(cols)\n",
    "    xl.append(cols)\n",
    "    print(cols)"
   ]
  },
  {
   "cell_type": "code",
   "execution_count": 6,
   "id": "162069e8",
   "metadata": {},
   "outputs": [
    {
     "data": {
      "text/html": [
       "<div>\n",
       "<style scoped>\n",
       "    .dataframe tbody tr th:only-of-type {\n",
       "        vertical-align: middle;\n",
       "    }\n",
       "\n",
       "    .dataframe tbody tr th {\n",
       "        vertical-align: top;\n",
       "    }\n",
       "\n",
       "    .dataframe thead th {\n",
       "        text-align: right;\n",
       "    }\n",
       "</style>\n",
       "<table border=\"1\" class=\"dataframe\">\n",
       "  <thead>\n",
       "    <tr style=\"text-align: right;\">\n",
       "      <th></th>\n",
       "      <th>0</th>\n",
       "      <th>1</th>\n",
       "      <th>2</th>\n",
       "      <th>3</th>\n",
       "      <th>4</th>\n",
       "      <th>5</th>\n",
       "      <th>6</th>\n",
       "      <th>7</th>\n",
       "    </tr>\n",
       "  </thead>\n",
       "  <tbody>\n",
       "    <tr>\n",
       "      <th>0</th>\n",
       "      <td>Rank</td>\n",
       "      <td>Market</td>\n",
       "      <td>Retail valueUS$ (millions)</td>\n",
       "      <td>Streaming</td>\n",
       "      <td>Physical</td>\n",
       "      <td>Digital</td>\n",
       "      <td>Performance rights</td>\n",
       "      <td>Synchronization</td>\n",
       "    </tr>\n",
       "    <tr>\n",
       "      <th>1</th>\n",
       "      <td>1</td>\n",
       "      <td>United States</td>\n",
       "      <td>n/a</td>\n",
       "      <td>n/a</td>\n",
       "      <td>n/a</td>\n",
       "      <td>n/a</td>\n",
       "      <td>n/a</td>\n",
       "      <td>n/a</td>\n",
       "    </tr>\n",
       "    <tr>\n",
       "      <th>2</th>\n",
       "      <td>2</td>\n",
       "      <td>Japan</td>\n",
       "      <td>n/a</td>\n",
       "      <td>n/a</td>\n",
       "      <td>n/a</td>\n",
       "      <td>n/a</td>\n",
       "      <td>n/a</td>\n",
       "      <td>n/a</td>\n",
       "    </tr>\n",
       "    <tr>\n",
       "      <th>3</th>\n",
       "      <td>3</td>\n",
       "      <td>United Kingdom</td>\n",
       "      <td>n/a</td>\n",
       "      <td>n/a</td>\n",
       "      <td>n/a</td>\n",
       "      <td>n/a</td>\n",
       "      <td>n/a</td>\n",
       "      <td>n/a</td>\n",
       "    </tr>\n",
       "    <tr>\n",
       "      <th>4</th>\n",
       "      <td>4</td>\n",
       "      <td>Germany</td>\n",
       "      <td>n/a</td>\n",
       "      <td>n/a</td>\n",
       "      <td>n/a</td>\n",
       "      <td>n/a</td>\n",
       "      <td>n/a</td>\n",
       "      <td>n/a</td>\n",
       "    </tr>\n",
       "    <tr>\n",
       "      <th>5</th>\n",
       "      <td>5</td>\n",
       "      <td>France</td>\n",
       "      <td>n/a</td>\n",
       "      <td>n/a</td>\n",
       "      <td>n/a</td>\n",
       "      <td>n/a</td>\n",
       "      <td>n/a</td>\n",
       "      <td>n/a</td>\n",
       "    </tr>\n",
       "    <tr>\n",
       "      <th>6</th>\n",
       "      <td>6</td>\n",
       "      <td>China</td>\n",
       "      <td>n/a</td>\n",
       "      <td>n/a</td>\n",
       "      <td>n/a</td>\n",
       "      <td>n/a</td>\n",
       "      <td>n/a</td>\n",
       "      <td>n/a</td>\n",
       "    </tr>\n",
       "    <tr>\n",
       "      <th>7</th>\n",
       "      <td>7</td>\n",
       "      <td>South Korea</td>\n",
       "      <td>n/a</td>\n",
       "      <td>n/a</td>\n",
       "      <td>n/a</td>\n",
       "      <td>n/a</td>\n",
       "      <td>n/a</td>\n",
       "      <td>n/a</td>\n",
       "    </tr>\n",
       "    <tr>\n",
       "      <th>8</th>\n",
       "      <td>8</td>\n",
       "      <td>Canada</td>\n",
       "      <td>n/a</td>\n",
       "      <td>n/a</td>\n",
       "      <td>n/a</td>\n",
       "      <td>n/a</td>\n",
       "      <td>n/a</td>\n",
       "      <td>n/a</td>\n",
       "    </tr>\n",
       "    <tr>\n",
       "      <th>9</th>\n",
       "      <td>9</td>\n",
       "      <td>Australia</td>\n",
       "      <td>n/a</td>\n",
       "      <td>n/a</td>\n",
       "      <td>n/a</td>\n",
       "      <td>n/a</td>\n",
       "      <td>n/a</td>\n",
       "      <td>n/a</td>\n",
       "    </tr>\n",
       "    <tr>\n",
       "      <th>10</th>\n",
       "      <td>10</td>\n",
       "      <td>Italy</td>\n",
       "      <td>n/a</td>\n",
       "      <td>n/a</td>\n",
       "      <td>n/a</td>\n",
       "      <td>n/a</td>\n",
       "      <td>n/a</td>\n",
       "      <td>n/a</td>\n",
       "    </tr>\n",
       "    <tr>\n",
       "      <th>11</th>\n",
       "      <td></td>\n",
       "      <td>Global total</td>\n",
       "      <td>25,900</td>\n",
       "      <td>16,900</td>\n",
       "      <td>5,000</td>\n",
       "      <td>1,100</td>\n",
       "      <td>2,400</td>\n",
       "      <td>500</td>\n",
       "    </tr>\n",
       "  </tbody>\n",
       "</table>\n",
       "</div>"
      ],
      "text/plain": [
       "       0               1                           2          3         4  \\\n",
       "0   Rank          Market  Retail valueUS$ (millions)  Streaming  Physical   \n",
       "1      1   United States                         n/a        n/a       n/a   \n",
       "2      2           Japan                         n/a        n/a       n/a   \n",
       "3      3  United Kingdom                         n/a        n/a       n/a   \n",
       "4      4         Germany                         n/a        n/a       n/a   \n",
       "5      5          France                         n/a        n/a       n/a   \n",
       "6      6           China                         n/a        n/a       n/a   \n",
       "7      7     South Korea                         n/a        n/a       n/a   \n",
       "8      8          Canada                         n/a        n/a       n/a   \n",
       "9      9       Australia                         n/a        n/a       n/a   \n",
       "10    10           Italy                         n/a        n/a       n/a   \n",
       "11          Global total                      25,900     16,900     5,000   \n",
       "\n",
       "          5                   6                7  \n",
       "0   Digital  Performance rights  Synchronization  \n",
       "1       n/a                 n/a              n/a  \n",
       "2       n/a                 n/a              n/a  \n",
       "3       n/a                 n/a              n/a  \n",
       "4       n/a                 n/a              n/a  \n",
       "5       n/a                 n/a              n/a  \n",
       "6       n/a                 n/a              n/a  \n",
       "7       n/a                 n/a              n/a  \n",
       "8       n/a                 n/a              n/a  \n",
       "9       n/a                 n/a              n/a  \n",
       "10      n/a                 n/a              n/a  \n",
       "11    1,100               2,400              500  "
      ]
     },
     "execution_count": 6,
     "metadata": {},
     "output_type": "execute_result"
    }
   ],
   "source": [
    "import pandas as pd\n",
    "df = pd.DataFrame(data = xl)\n",
    "df"
   ]
  },
  {
   "cell_type": "code",
   "execution_count": 4,
   "id": "47171f48",
   "metadata": {},
   "outputs": [
    {
     "data": {
      "text/plain": [
       "'C:\\\\Users\\\\Gayatri'"
      ]
     },
     "execution_count": 4,
     "metadata": {},
     "output_type": "execute_result"
    }
   ],
   "source": [
    "import os\n",
    "os.getcwd()"
   ]
  },
  {
   "cell_type": "code",
   "execution_count": 7,
   "id": "ef0b22a8",
   "metadata": {},
   "outputs": [
    {
     "name": "stdout",
     "output_type": "stream",
     "text": [
      "Spreadsheet saved.\n"
     ]
    }
   ],
   "source": [
    "df.to_excel('world.xlsx', index=False,header = False)\n",
    "print('Spreadsheet saved.')"
   ]
  },
  {
   "cell_type": "code",
   "execution_count": 10,
   "id": "9f142939",
   "metadata": {},
   "outputs": [
    {
     "data": {
      "text/plain": [
       "[['Rank',\n",
       "  'Market',\n",
       "  'Retail valueUS$ (millions)',\n",
       "  'Streaming',\n",
       "  'Physical',\n",
       "  'Digital',\n",
       "  'Performance rights',\n",
       "  'Synchronization'],\n",
       " ['1', 'United States', 'n/a', 'n/a', 'n/a', 'n/a', 'n/a', 'n/a'],\n",
       " ['2', 'Japan', 'n/a', 'n/a', 'n/a', 'n/a', 'n/a', 'n/a'],\n",
       " ['3', 'United Kingdom', 'n/a', 'n/a', 'n/a', 'n/a', 'n/a', 'n/a'],\n",
       " ['4', 'Germany', 'n/a', 'n/a', 'n/a', 'n/a', 'n/a', 'n/a'],\n",
       " ['5', 'France', 'n/a', 'n/a', 'n/a', 'n/a', 'n/a', 'n/a'],\n",
       " ['6', 'China', 'n/a', 'n/a', 'n/a', 'n/a', 'n/a', 'n/a'],\n",
       " ['7', 'South Korea', 'n/a', 'n/a', 'n/a', 'n/a', 'n/a', 'n/a'],\n",
       " ['8', 'Canada', 'n/a', 'n/a', 'n/a', 'n/a', 'n/a', 'n/a'],\n",
       " ['9', 'Australia', 'n/a', 'n/a', 'n/a', 'n/a', 'n/a', 'n/a'],\n",
       " ['10', 'Italy', 'n/a', 'n/a', 'n/a', 'n/a', 'n/a', 'n/a'],\n",
       " ['', 'Global total', '25,900', '16,900', '5,000', '1,100', '2,400', '500']]"
      ]
     },
     "execution_count": 10,
     "metadata": {},
     "output_type": "execute_result"
    }
   ],
   "source": [
    "xl"
   ]
  },
  {
   "cell_type": "code",
   "execution_count": null,
   "id": "049305bd",
   "metadata": {},
   "outputs": [],
   "source": []
  }
 ],
 "metadata": {
  "kernelspec": {
   "display_name": "Python 3 (ipykernel)",
   "language": "python",
   "name": "python3"
  },
  "language_info": {
   "codemirror_mode": {
    "name": "ipython",
    "version": 3
   },
   "file_extension": ".py",
   "mimetype": "text/x-python",
   "name": "python",
   "nbconvert_exporter": "python",
   "pygments_lexer": "ipython3",
   "version": "3.9.12"
  }
 },
 "nbformat": 4,
 "nbformat_minor": 5
}
